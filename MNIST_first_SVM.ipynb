{
 "cells": [
  {
   "cell_type": "code",
   "execution_count": 3,
   "id": "26f27a9b",
   "metadata": {},
   "outputs": [],
   "source": [
    "from sklearn.ensemble import RandomForestClassifier\n",
    "from sklearn.svm import SVC\n",
    "from sklearn.model_selection import train_test_split\n",
    "import numpy as np\n",
    "from sklearn.model_selection import cross_val_predict\n",
    "import matplotlib.pyplot as plt\n",
    "from sklearn.metrics import accuracy_score\n",
    "from sklearn.metrics import precision_score, recall_score, f1_score\n",
    "from keras.datasets import mnist\n"
   ]
  },
  {
   "cell_type": "code",
   "execution_count": null,
   "id": "9142abf9",
   "metadata": {},
   "outputs": [],
   "source": [
    "(train_images, train_labels), (test_images, test_labels) = mnist.load_data()\n",
    "#print(test_images.shape)\n",
    "\n",
    "x_train=train_images.reshape((60000,784))\n",
    "y_train=train_labels\n",
    "x_test=test_images.reshape((10000,784))\n",
    "y_test=test_labels\n",
    "\n",
    "\n",
    "#x_train, x_test, y_train, y_test = train_test_split(mnist['data'], mnist['target'], random_state=0)\n",
    "clf=SVC(kernel ='rbf')#using SVM model\n",
    "clf.fit(x_train,y_train)\n",
    "#pred=cross_val_predict(clf, x_train,y_train, cv=3)\n",
    "pred=clf.predict(x_test)\n",
    "print(\"predict size:\",pred.shape)\n",
    "print(\"test size:\",y_test.shape)\n",
    "#precision = precision_score(y_test,pred)\n",
    "#recall = recall_score(y_test, pred)\n",
    "print('SVM Accuracy Score: %f' %accuracy_score(y_test,pred))\n",
    "#print('Random Forest Precision: %f' %precision)\n",
    "#print('Random Forest Recall: %f' %recall)"
   ]
  }
 ],
 "metadata": {
  "kernelspec": {
   "display_name": "Python 3 (ipykernel)",
   "language": "python",
   "name": "python3"
  },
  "language_info": {
   "codemirror_mode": {
    "name": "ipython",
    "version": 3
   },
   "file_extension": ".py",
   "mimetype": "text/x-python",
   "name": "python",
   "nbconvert_exporter": "python",
   "pygments_lexer": "ipython3",
   "version": "3.8.12"
  }
 },
 "nbformat": 4,
 "nbformat_minor": 5
}
